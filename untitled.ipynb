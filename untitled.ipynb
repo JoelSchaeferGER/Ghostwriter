{
 "cells": [
  {
   "cell_type": "markdown",
   "id": "41b661f0-9c81-4355-affe-616b25dc66bb",
   "metadata": {},
   "source": [
    "# Hello, (random) World!\n",
    "\n",
    "For reference, see the famous [\"Hello, World!\"](https://en.wikipedia.org/wiki/%22Hello,_World!%22_program) program."
   ]
  },
  {
   "cell_type": "code",
   "execution_count": 1,
   "id": "49aa140f-3c39-4765-9413-cd91881ccaf0",
   "metadata": {},
   "outputs": [
    {
     "name": "stdout",
     "output_type": "stream",
     "text": [
      "Hello, World!\n"
     ]
    }
   ],
   "source": [
    "# print a string (text)\n",
    "print('Hello, World!')"
   ]
  },
  {
   "cell_type": "code",
   "execution_count": 2,
   "id": "782067e4-0745-42ef-903d-72a93fdc0718",
   "metadata": {},
   "outputs": [
    {
     "name": "stdout",
     "output_type": "stream",
     "text": [
      "Hello, World!\n"
     ]
    }
   ],
   "source": [
    "# store a text in a variable\n",
    "txt = 'Hello, World!'\n",
    "# print the content of the variable\n",
    "print(txt)"
   ]
  },
  {
   "cell_type": "code",
   "execution_count": 3,
   "id": "4626c185-6167-479a-b6a7-b93e64fb1c11",
   "metadata": {},
   "outputs": [
    {
     "name": "stdout",
     "output_type": "stream",
     "text": [
      "['H', 'e', 'l', 'l', 'o', ',', ' ', 'W', 'o', 'r', 'l', 'd', '!']\n"
     ]
    }
   ],
   "source": [
    "# split text into single characters\n",
    "# store this characters in the same variable\n",
    "txt = [char for char in txt]\n",
    "# print the list of single characters\n",
    "print(txt)"
   ]
  },
  {
   "cell_type": "code",
   "execution_count": 4,
   "id": "0423d967-23a9-4c0b-9cd0-92066f8ce985",
   "metadata": {},
   "outputs": [
    {
     "name": "stdout",
     "output_type": "stream",
     "text": [
      "Hello, World!\n"
     ]
    }
   ],
   "source": [
    "# join the single characters to one text and print it\n",
    "print(''.join(txt))"
   ]
  },
  {
   "cell_type": "code",
   "execution_count": 5,
   "id": "00717925-35dd-42aa-a355-effa4e43615e",
   "metadata": {},
   "outputs": [],
   "source": [
    "# import the built-in module random\n",
    "import random"
   ]
  },
  {
   "cell_type": "code",
   "execution_count": 6,
   "id": "f04c9d91-53e4-48be-b683-8a2c5d2b8af8",
   "metadata": {},
   "outputs": [
    {
     "name": "stdout",
     "output_type": "stream",
     "text": [
      "odWlo,H!le lr\n"
     ]
    }
   ],
   "source": [
    "# shuffle the list of charaters and print it\n",
    "random.shuffle(txt)\n",
    "print(''.join(txt))"
   ]
  },
  {
   "cell_type": "code",
   "execution_count": 7,
   "id": "a52d202f-2671-4aaf-825f-bbad3bab9201",
   "metadata": {},
   "outputs": [
    {
     "name": "stdout",
     "output_type": "stream",
     "text": [
      " dll,o!eHWrol\n",
      "lodr!Wl lH,oe\n",
      "!Wlr olH,ldoe\n",
      "ldlooW!le rH,\n",
      "H!,Wol oerldl\n"
     ]
    }
   ],
   "source": [
    "# do the same as above 5 times\n",
    "for i in range(5):\n",
    "    random.shuffle(txt)\n",
    "    print(''.join(txt))"
   ]
  },
  {
   "cell_type": "markdown",
   "id": "759daf3b-f986-498c-8069-5e0d257cf948",
   "metadata": {},
   "source": [
    "Of course it's possible to get the original text via random as well."
   ]
  },
  {
   "cell_type": "code",
   "execution_count": null,
   "id": "a56b695f-b752-4ed9-8e4b-bdfb901a0dfd",
   "metadata": {},
   "outputs": [],
   "source": [
    "counter = 0 # count how many iterations are necessary\n",
    "original = 'Hello, World!'\n",
    "generated = ''\n",
    "# Do until original and generated are the same\n",
    "while generated != original:\n",
    "    counter += 1\n",
    "    random.shuffle(txt)\n",
    "    generated = ''.join(txt)\n",
    "    \n",
    "print(f'generated {generated} after {counter} iterations')"
   ]
  },
  {
   "cell_type": "code",
   "execution_count": null,
   "id": "9407c206-564f-4da7-92bc-f6d7a8ee693e",
   "metadata": {},
   "outputs": [],
   "source": []
  }
 ],
 "metadata": {
  "kernelspec": {
   "display_name": "Python 3 (ipykernel)",
   "language": "python",
   "name": "python3"
  },
  "language_info": {
   "codemirror_mode": {
    "name": "ipython",
    "version": 3
   },
   "file_extension": ".py",
   "mimetype": "text/x-python",
   "name": "python",
   "nbconvert_exporter": "python",
   "pygments_lexer": "ipython3",
   "version": "3.9.7"
  }
 },
 "nbformat": 4,
 "nbformat_minor": 5
}
