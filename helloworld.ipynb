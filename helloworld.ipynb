{
 "cells": [
  {
   "cell_type": "markdown",
   "id": "8fff2980-2709-42cb-af40-cdfce772dfe0",
   "metadata": {},
   "source": [
    "# Hello, random World! "
   ]
  },
  {
   "cell_type": "code",
   "execution_count": 1,
   "id": "a2221af9-9de3-4dfe-9aaa-6d0a678f04f1",
   "metadata": {},
   "outputs": [
    {
     "name": "stdout",
     "output_type": "stream",
     "text": [
      "line1 \n",
      "line2 \n",
      "line3\n"
     ]
    }
   ],
   "source": [
    "print('''line1 \n",
    "line2 \n",
    "line3''') # triple marks for miltpiple lines"
   ]
  },
  {
   "cell_type": "code",
   "execution_count": 2,
   "id": "2b024645-ec09-47d1-bee7-21ae81659b7a",
   "metadata": {},
   "outputs": [
    {
     "name": "stdout",
     "output_type": "stream",
     "text": [
      "some\"text\"asdf\n"
     ]
    }
   ],
   "source": [
    "print('some\\\"text\\\"asdf') "
   ]
  },
  {
   "cell_type": "code",
   "execution_count": 3,
   "id": "019ffa90-66e1-48ed-b24a-cf7e668c3407",
   "metadata": {},
   "outputs": [
    {
     "name": "stdout",
     "output_type": "stream",
     "text": [
      "<class 'str'>\n"
     ]
    }
   ],
   "source": [
    "print(type('Line 1'))"
   ]
  },
  {
   "cell_type": "code",
   "execution_count": 4,
   "id": "bad5d290-068a-468f-89d9-b8c1fe1a0f3b",
   "metadata": {},
   "outputs": [
    {
     "name": "stdout",
     "output_type": "stream",
     "text": [
      "A rose is a rose is a rose\n"
     ]
    }
   ],
   "source": [
    "print('A rose' + ' is a rose' * 2)"
   ]
  },
  {
   "cell_type": "code",
   "execution_count": 5,
   "id": "a7b93e78-77ad-4586-8c46-e7d2bb983fcc",
   "metadata": {},
   "outputs": [
    {
     "data": {
      "text/plain": [
       "'T'"
      ]
     },
     "execution_count": 5,
     "metadata": {},
     "output_type": "execute_result"
    }
   ],
   "source": [
    "s = 'The quick brown fox jumps over the lazy dog.' \n",
    "s[0]\n",
    "    "
   ]
  },
  {
   "cell_type": "code",
   "execution_count": 6,
   "id": "cfec9c04-ca15-4538-b70e-d080c1624d8d",
   "metadata": {},
   "outputs": [
    {
     "name": "stdout",
     "output_type": "stream",
     "text": [
      ".\n"
     ]
    }
   ],
   "source": [
    "print(s[-1])"
   ]
  },
  {
   "cell_type": "code",
   "execution_count": 7,
   "id": "013f63b9-f110-4ceb-96a7-9ededba3703e",
   "metadata": {},
   "outputs": [
    {
     "name": "stdout",
     "output_type": "stream",
     "text": [
      "T\n"
     ]
    }
   ],
   "source": [
    "print(s[:1])"
   ]
  },
  {
   "cell_type": "code",
   "execution_count": 8,
   "id": "04e4c88b-b9c0-4d54-97f4-5ad363dec07e",
   "metadata": {},
   "outputs": [
    {
     "name": "stdout",
     "output_type": "stream",
     "text": [
      "<class 'list'>\n"
     ]
    }
   ],
   "source": [
    "with open('example.md', 'r') as f:\n",
    "        txt2 = f.readlines()\n",
    "\n",
    "print(type(txt2))  "
   ]
  },
  {
   "cell_type": "code",
   "execution_count": 9,
   "id": "64bbc07c-fda0-441d-ace6-372be1c1a2ac",
   "metadata": {},
   "outputs": [
    {
     "data": {
      "text/plain": [
       "['# Hofstadter, Douglas R. I Am a Strange Loop. New York: Basic Books, 2007.\\n']"
      ]
     },
     "execution_count": 9,
     "metadata": {},
     "output_type": "execute_result"
    }
   ],
   "source": [
    "txt2[:1]"
   ]
  },
  {
   "cell_type": "code",
   "execution_count": 10,
   "id": "d1258c13-a528-453d-baf4-1b132022955d",
   "metadata": {},
   "outputs": [
    {
     "name": "stdout",
     "output_type": "stream",
     "text": [
      "\"My brain [...] is constantly seeking to label, to categorize, to find precedents and analogues – in other words, <i>to simplify while not letting essence slip away</i>.\" (279)\n",
      "\n"
     ]
    }
   ],
   "source": [
    "ex1 = txt2[-5]\n",
    "print(ex1)"
   ]
  },
  {
   "cell_type": "code",
   "execution_count": 11,
   "id": "d9c99b01-bd8c-470f-b1be-3a6689efdee0",
   "metadata": {},
   "outputs": [
    {
     "name": "stdout",
     "output_type": "stream",
     "text": [
      "ABC\n"
     ]
    }
   ],
   "source": [
    "print('abc'.upper())"
   ]
  },
  {
   "cell_type": "code",
   "execution_count": 12,
   "id": "4aaa8e1a-671f-495b-b105-9eb69c606464",
   "metadata": {},
   "outputs": [
    {
     "name": "stdout",
     "output_type": "stream",
     "text": [
      "abc\n"
     ]
    }
   ],
   "source": [
    "print('ABC'.lower())"
   ]
  },
  {
   "cell_type": "code",
   "execution_count": 13,
   "id": "7996aadf-9976-4e85-a083-15fc741dfb2c",
   "metadata": {},
   "outputs": [
    {
     "name": "stdout",
     "output_type": "stream",
     "text": [
      "A code is a code.\n"
     ]
    }
   ],
   "source": [
    "rose = 'A rose is a rose.'\n",
    "rose = rose.replace('rose', 'code')\n",
    "print(rose)"
   ]
  },
  {
   "cell_type": "code",
   "execution_count": 14,
   "id": "171df964-2fce-4e71-a5ea-876d3c780b05",
   "metadata": {},
   "outputs": [],
   "source": [
    "ex1 = ex1.replace('[...]','')"
   ]
  },
  {
   "cell_type": "code",
   "execution_count": 15,
   "id": "e996f82f-8087-416f-b805-b4741da4b276",
   "metadata": {},
   "outputs": [
    {
     "name": "stdout",
     "output_type": "stream",
     "text": [
      "\"My brain  is constantly seeking to label, to categorize, to find precedents and analogues – in other words, <i>to simplify while not letting essence slip away</i>.\" (279)\n",
      "\n"
     ]
    }
   ],
   "source": [
    "print(ex1)"
   ]
  },
  {
   "cell_type": "code",
   "execution_count": 16,
   "id": "f0842f1a-27fc-4051-b486-dddb7154f522",
   "metadata": {},
   "outputs": [],
   "source": [
    "ex1 = ex1.replace('<i>','') \n",
    "ex1 = ex1.replace('</i>','') \n",
    "ex1 = ex1.replace('\"','')"
   ]
  },
  {
   "cell_type": "code",
   "execution_count": 17,
   "id": "9cc5adf8-51f5-4481-931e-5369a120d5e0",
   "metadata": {},
   "outputs": [
    {
     "name": "stdout",
     "output_type": "stream",
     "text": [
      "My brain  is constantly seeking to label, to categorize, to find precedents and analogues – in other words, to simplify while not letting essence slip away. (279)\n",
      "\n"
     ]
    }
   ],
   "source": [
    "print(ex1)"
   ]
  },
  {
   "cell_type": "code",
   "execution_count": 18,
   "id": "6d1326a5-b5ae-4620-9043-c5213bfb796b",
   "metadata": {},
   "outputs": [
    {
     "name": "stdout",
     "output_type": "stream",
     "text": [
      "157\n",
      "My brain  is constantly seeking to label, to categorize, to find precedents and analogues – in other words, to simplify while not letting essence slip away. \n"
     ]
    }
   ],
   "source": [
    "index = ex1.find('(')\n",
    "print(index)\n",
    "ex1 = ex1[:index]\n",
    "print(ex1)"
   ]
  },
  {
   "cell_type": "code",
   "execution_count": 19,
   "id": "aa345498-636a-425f-b27b-7bb98665296e",
   "metadata": {},
   "outputs": [
    {
     "name": "stdout",
     "output_type": "stream",
     "text": [
      "My brain  is constantly seeking to label, to categorize, to find precedents and analogues – in other words, to simplify while not letting essence slip away. \n"
     ]
    }
   ],
   "source": [
    "print(ex1)\n",
    "ex1 = ex1.strip()\n"
   ]
  },
  {
   "cell_type": "code",
   "execution_count": 20,
   "id": "2bfc1fac-df1e-404e-ba7e-e5c9e38df71e",
   "metadata": {},
   "outputs": [
    {
     "name": "stdout",
     "output_type": "stream",
     "text": [
      "My brain  is constantly seeking to label, to categorize, to find precedents and analogues – in other words, to simplify while not letting essence slip away.\n"
     ]
    }
   ],
   "source": [
    "print(ex1)"
   ]
  },
  {
   "cell_type": "code",
   "execution_count": 21,
   "id": "a07b54e3-3754-446e-b7e7-2a534fa21aa3",
   "metadata": {},
   "outputs": [
    {
     "name": "stdout",
     "output_type": "stream",
     "text": [
      "My brain is constantly seeking to label, to categorize, to find precedents and analogues – in other words, to simplify while not letting essence slip away.\n"
     ]
    }
   ],
   "source": [
    "ex1 = ex1.replace('  ',' ')\n",
    "print(ex1)"
   ]
  },
  {
   "cell_type": "code",
   "execution_count": 22,
   "id": "8d19240c-b2cb-4696-9688-e4dc8912c4ee",
   "metadata": {},
   "outputs": [
    {
     "name": "stdout",
     "output_type": "stream",
     "text": [
      "my brain is constantly seeking to label, to categorize, to find precedents and analogues – in other words, to simplify while not letting essence slip away.\n",
      "My brain is constantly seeking to label, to categorize, to find precedents and analogues – in other words, to simplify while not letting essence slip away.\n"
     ]
    }
   ],
   "source": [
    "ex1 = ex1.lower()\n",
    "print(ex1)\n",
    "ex1 = ex1.capitalize()\n",
    "print(ex1)"
   ]
  },
  {
   "cell_type": "code",
   "execution_count": 23,
   "id": "c12d8da3-f881-47a3-a8a8-dc7451d3db68",
   "metadata": {},
   "outputs": [],
   "source": [
    "with open('output.txt', 'w') as f:\n",
    "    f.write(ex1)"
   ]
  },
  {
   "cell_type": "code",
   "execution_count": 24,
   "id": "922d8e03-1e92-4d31-bb76-73ebf941284f",
   "metadata": {},
   "outputs": [],
   "source": [
    "with open('output.txt', 'w') as f:\n",
    "    f.write(ex1*2)"
   ]
  },
  {
   "cell_type": "code",
   "execution_count": 25,
   "id": "8932ac80-9e7b-4c00-80ce-97a378ddf55e",
   "metadata": {},
   "outputs": [
    {
     "name": "stdout",
     "output_type": "stream",
     "text": [
      "My brain is constantly seeking to label, to categorize, to find precedents and analogues – in other words, to simplify while not letting essence slip away.My brain is constantly seeking to label, to categorize, to find precedents and analogues – in other words, to simplify while not letting essence slip away.\n"
     ]
    }
   ],
   "source": [
    "with open('output.txt','r') as f:\n",
    "    txt2 = f.read()\n",
    "    \n",
    "print(txt2) "
   ]
  },
  {
   "cell_type": "code",
   "execution_count": 26,
   "id": "72456881-3adf-43a2-bd29-2103d1cc8064",
   "metadata": {},
   "outputs": [],
   "source": [
    "txt2 = txt2.strip()"
   ]
  },
  {
   "cell_type": "code",
   "execution_count": 27,
   "id": "d9141a46-fec7-4d31-a4c9-6b52d4ce8f82",
   "metadata": {},
   "outputs": [
    {
     "name": "stdout",
     "output_type": "stream",
     "text": [
      "My brain is constantly seeking to label, to categorize, to find precedents and analogues – in other words, to simplify while not letting essence slip away.My brain is constantly seeking to label, to categorize, to find precedents and analogues – in other words, to simplify while not letting essence slip away.\n"
     ]
    }
   ],
   "source": [
    "print(txt2)"
   ]
  },
  {
   "cell_type": "code",
   "execution_count": 29,
   "id": "aecd768c-d29c-4323-9d81-f80c90a5c008",
   "metadata": {},
   "outputs": [
    {
     "name": "stdout",
     "output_type": "stream",
     "text": [
      "My brain is constantly seeking to label, to categorize, to find precedents and analogues – in other words, to simplify while not letting essence slip away. My brain is constantly seeking to label, to categorize, to find precedents and analogues – in other words, to simplify while not letting essence slip away. \n"
     ]
    }
   ],
   "source": [
    "txt2 = txt2.replace('.','. ')\n",
    "print(txt2)"
   ]
  },
  {
   "cell_type": "code",
   "execution_count": null,
   "id": "8af00e5d-4ed9-4059-8b2c-5a75cb64602d",
   "metadata": {},
   "outputs": [],
   "source": []
  }
 ],
 "metadata": {
  "kernelspec": {
   "display_name": "Python 3 (ipykernel)",
   "language": "python",
   "name": "python3"
  },
  "language_info": {
   "codemirror_mode": {
    "name": "ipython",
    "version": 3
   },
   "file_extension": ".py",
   "mimetype": "text/x-python",
   "name": "python",
   "nbconvert_exporter": "python",
   "pygments_lexer": "ipython3",
   "version": "3.9.7"
  }
 },
 "nbformat": 4,
 "nbformat_minor": 5
}
