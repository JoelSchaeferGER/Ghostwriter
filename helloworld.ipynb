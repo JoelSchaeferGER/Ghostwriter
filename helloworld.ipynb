{
 "cells": [
  {
   "cell_type": "markdown",
   "id": "8fff2980-2709-42cb-af40-cdfce772dfe0",
   "metadata": {},
   "source": [
    "# Hello, random World! "
   ]
  },
  {
   "cell_type": "code",
   "execution_count": 3,
   "id": "c43ffd0d-79fe-43d8-b3ee-6594b87f2122",
   "metadata": {},
   "outputs": [
    {
     "name": "stdout",
     "output_type": "stream",
     "text": [
      "yoyoyo\n"
     ]
    }
   ],
   "source": [
    "print(\"yoyoyo\")"
   ]
  },
  {
   "cell_type": "code",
   "execution_count": null,
   "id": "4e2129a9-74fe-48d4-930a-4278ffeb8457",
   "metadata": {},
   "outputs": [
    {
     "name": "stdout",
     "output_type": "stream",
     "text": [
      "['l', ',', ' ', 'd', 'e', 'r', 'l', 'W', 'o', 'o', 'H', 'l', '!']\n"
     ]
    }
   ],
   "source": [
    "run test.py"
   ]
  },
  {
   "cell_type": "code",
   "execution_count": null,
   "id": "4593b5e7-3a04-4ff6-916b-d05a8d6918bb",
   "metadata": {},
   "outputs": [],
   "source": []
  },
  {
   "cell_type": "code",
   "execution_count": null,
   "id": "a2221af9-9de3-4dfe-9aaa-6d0a678f04f1",
   "metadata": {},
   "outputs": [],
   "source": []
  }
 ],
 "metadata": {
  "kernelspec": {
   "display_name": "Python 3 (ipykernel)",
   "language": "python",
   "name": "python3"
  },
  "language_info": {
   "codemirror_mode": {
    "name": "ipython",
    "version": 3
   },
   "file_extension": ".py",
   "mimetype": "text/x-python",
   "name": "python",
   "nbconvert_exporter": "python",
   "pygments_lexer": "ipython3",
   "version": "3.9.7"
  }
 },
 "nbformat": 4,
 "nbformat_minor": 5
}
